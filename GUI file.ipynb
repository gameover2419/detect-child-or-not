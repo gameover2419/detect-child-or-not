{
 "cells": [
  {
   "cell_type": "code",
   "execution_count": 2,
   "id": "452aa170",
   "metadata": {},
   "outputs": [
    {
     "name": "stdout",
     "output_type": "stream",
     "text": [
      "Not a child\n"
     ]
    },
    {
     "name": "stderr",
     "output_type": "stream",
     "text": [
      "Exception in Tkinter callback\n",
      "Traceback (most recent call last):\n",
      "  File \"C:\\Users\\Public\\anaconda3\\Lib\\tkinter\\__init__.py\", line 1948, in __call__\n",
      "    return self.func(*args)\n",
      "           ^^^^^^^^^^^^^^^^\n",
      "  File \"C:\\Users\\Rohit Yadav\\AppData\\Local\\Temp\\ipykernel_28680\\2505327698.py\", line 52, in <lambda>\n",
      "    predict_button = tk.Button(window, text=\"Predict\", command=lambda: detect_child(file_path))\n",
      "                                                                                    ^^^^^^^^^\n",
      "NameError: name 'file_path' is not defined\n"
     ]
    }
   ],
   "source": [
    "import cv2\n",
    "import tkinter as tk\n",
    "from tkinter import filedialog\n",
    "from matplotlib import pyplot as plt\n",
    "from PIL import Image, ImageTk\n",
    "\n",
    "def detect_child(image_path):\n",
    "    # Load the pre-trained face cascade\n",
    "    face_cascade = cv2.CascadeClassifier(cv2.data.haarcascades + 'haarcascade_frontalface_default.xml')\n",
    "\n",
    "    # Load the image\n",
    "    image = cv2.imread(image_path)\n",
    "    gray_image = cv2.cvtColor(image, cv2.COLOR_BGR2GRAY)\n",
    "\n",
    "    # Detect faces in the image\n",
    "    faces = face_cascade.detectMultiScale(gray_image, scaleFactor=1.1, minNeighbors=5, minSize=(30, 30))\n",
    "\n",
    "    # Check if any detected face is likely to be a child (you may need more sophisticated models for this)\n",
    "    for (x, y, w, h) in faces:\n",
    "        # Assuming children are smaller in size\n",
    "        if w > 100 and h > 100:\n",
    "            print(\"Child detected!\")\n",
    "        else:\n",
    "            print(\"Not a child\")\n",
    "            # You can take further actions here, e.g., notify authorities or trigger an alert\n",
    "\n",
    "    # Display the image with rectangles around detected faces\n",
    "    for (x, y, w, h) in faces:\n",
    "        cv2.rectangle(image, (x, y), (x+w, y+h), (255, 0, 0), 2)\n",
    "\n",
    "    # Use plt.imshow to display the image\n",
    "    image_rgb = cv2.cvtColor(image, cv2.COLOR_BGR2RGB)\n",
    "    img = Image.fromarray(image_rgb)\n",
    "    img_tk = ImageTk.PhotoImage(img)\n",
    "    panel = tk.Label(window, image=img_tk)\n",
    "    panel.image = img_tk\n",
    "    panel.pack()\n",
    "\n",
    "def browse_image():\n",
    "    file_path = filedialog.askopenfilename()\n",
    "    detect_child(file_path)\n",
    "\n",
    "# Create the main window\n",
    "window = tk.Tk()\n",
    "window.title(\"Child Detection App\")\n",
    "\n",
    "# Create a button to browse for an image\n",
    "browse_button = tk.Button(window, text=\"Browse Image\", command=browse_image)\n",
    "browse_button.pack()\n",
    "\n",
    "# Create a button to predict\n",
    "predict_button = tk.Button(window, text=\"Predict\", command=lambda: detect_child(file_path))\n",
    "predict_button.pack()\n",
    "\n",
    "# Run the Tkinter event loop\n",
    "window.mainloop()\n"
   ]
  },
  {
   "cell_type": "code",
   "execution_count": null,
   "id": "36ef04e3",
   "metadata": {},
   "outputs": [],
   "source": []
  }
 ],
 "metadata": {
  "kernelspec": {
   "display_name": "Python 3 (ipykernel)",
   "language": "python",
   "name": "python3"
  },
  "language_info": {
   "codemirror_mode": {
    "name": "ipython",
    "version": 3
   },
   "file_extension": ".py",
   "mimetype": "text/x-python",
   "name": "python",
   "nbconvert_exporter": "python",
   "pygments_lexer": "ipython3",
   "version": "3.11.5"
  }
 },
 "nbformat": 4,
 "nbformat_minor": 5
}
